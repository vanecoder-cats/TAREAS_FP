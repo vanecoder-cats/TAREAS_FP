{
  "nbformat": 4,
  "nbformat_minor": 0,
  "metadata": {
    "colab": {
      "provenance": [],
      "authorship_tag": "ABX9TyOKAgiyAF2zL0k9Boa+qYNG",
      "include_colab_link": true
    },
    "kernelspec": {
      "name": "python3",
      "display_name": "Python 3"
    },
    "language_info": {
      "name": "python"
    }
  },
  "cells": [
    {
      "cell_type": "markdown",
      "metadata": {
        "id": "view-in-github",
        "colab_type": "text"
      },
      "source": [
        "<a href=\"https://colab.research.google.com/github/vanecoder-cats/TAREAS_FP/blob/main/TAREA_7.ipynb\" target=\"_parent\"><img src=\"https://colab.research.google.com/assets/colab-badge.svg\" alt=\"Open In Colab\"/></a>"
      ]
    },
    {
      "cell_type": "markdown",
      "source": [
        "Tipo entero (int): representa números enteros sin decimales."
      ],
      "metadata": {
        "id": "rHjWUwDmKU2Z"
      }
    },
    {
      "cell_type": "code",
      "execution_count": 10,
      "metadata": {
        "id": "zTJuaCN2rury",
        "colab": {
          "base_uri": "https://localhost:8080/"
        },
        "outputId": "47776608-6d42-4fee-bb2e-f0a5131344ed"
      },
      "outputs": [
        {
          "output_type": "stream",
          "name": "stdout",
          "text": [
            "<class 'int'>\n"
          ]
        }
      ],
      "source": [
        "x = 10\n",
        "print(type(x))"
      ]
    },
    {
      "cell_type": "markdown",
      "source": [
        "Tipo flotante (float): comprende números con decimales."
      ],
      "metadata": {
        "id": "USpbM8v8KZ4U"
      }
    },
    {
      "cell_type": "code",
      "source": [
        "y = 3.1416\n",
        "print(type(y))"
      ],
      "metadata": {
        "colab": {
          "base_uri": "https://localhost:8080/"
        },
        "id": "E2twC5JDyqjI",
        "outputId": "9eae0531-516f-4f2c-ffb6-fb2b9a41b929"
      },
      "execution_count": 65,
      "outputs": [
        {
          "output_type": "stream",
          "name": "stdout",
          "text": [
            "<class 'float'>\n"
          ]
        }
      ]
    },
    {
      "cell_type": "markdown",
      "source": [
        "Tipo complejo (complex): incluye números complejos con una parte real y una parte imaginaria, que va acompañada de la terminación j."
      ],
      "metadata": {
        "id": "GX0FkXH3KfDL"
      }
    },
    {
      "cell_type": "code",
      "source": [
        "z = 8 + 2j\n",
        "print(type(z))"
      ],
      "metadata": {
        "colab": {
          "base_uri": "https://localhost:8080/"
        },
        "id": "Ql0kuT2tzLx8",
        "outputId": "75a17cbe-786a-47d8-d0c1-1352d731b02a"
      },
      "execution_count": 12,
      "outputs": [
        {
          "output_type": "stream",
          "name": "stdout",
          "text": [
            "<class 'complex'>\n"
          ]
        }
      ]
    },
    {
      "cell_type": "markdown",
      "source": [
        "Una cadena o Python string (str) representa una secuencia de caracteres. Puedes escribirlos entre comillas simples, dobles o triples.\n"
      ],
      "metadata": {
        "id": "zs8SHKDFK160"
      }
    },
    {
      "cell_type": "code",
      "source": [
        "# Single quotes\n",
        "str1 = 'Hello World!'\n",
        "# Double quotes\n",
        "str2 = \"This is a string.\"\n",
        "# Triple quotes for multi-line strings\n",
        "str3 = '''This is a multi-line string.'''"
      ],
      "metadata": {
        "id": "EUk14MdSK5S2"
      },
      "execution_count": null,
      "outputs": []
    },
    {
      "cell_type": "code",
      "source": [
        "a = \"Hola yo\"\n",
        "print(type(a))"
      ],
      "metadata": {
        "colab": {
          "base_uri": "https://localhost:8080/"
        },
        "id": "u38Zujxfz3Hi",
        "outputId": "71d5a0ba-430e-4e07-caf1-44db5a4dcad9"
      },
      "execution_count": 68,
      "outputs": [
        {
          "output_type": "stream",
          "name": "stdout",
          "text": [
            "<class 'str'>\n"
          ]
        }
      ]
    },
    {
      "cell_type": "markdown",
      "source": [
        "Los tipos de datos booleanos de Python representan valores de verdad, es decir, valores que pueden ser verdaderos (True) o falsos (False). Estos datos son esenciales para realizar evaluaciones lógicas y tomar decisiones dentro de un programa."
      ],
      "metadata": {
        "id": "lZbrlQygKGOE"
      }
    },
    {
      "cell_type": "code",
      "source": [
        "bandera_roja = False\n",
        "print(type(bandera_roja))"
      ],
      "metadata": {
        "colab": {
          "base_uri": "https://localhost:8080/"
        },
        "id": "TFygGTYR0uUt",
        "outputId": "f7589c2f-2cb3-4d56-ddb2-3a5946b457df"
      },
      "execution_count": 16,
      "outputs": [
        {
          "output_type": "stream",
          "name": "stdout",
          "text": [
            "<class 'bool'>\n"
          ]
        }
      ]
    },
    {
      "cell_type": "markdown",
      "source": [
        "Los diccionarios (dict) en Python son una estructura de datos que almacena elementos en forma de pares clave-valor. A diferencia de las listas o tuplas, que contienen una secuencia ordenada de elementos, los diccionarios son desordenados y solo se puede acceder a sus elementos mediante una clave única."
      ],
      "metadata": {
        "id": "mdg_mhA5L2Hq"
      }
    },
    {
      "cell_type": "code",
      "source": [
        "{\"a\": 1, \"b\": 2}\n",
        "print(type(x))"
      ],
      "metadata": {
        "colab": {
          "base_uri": "https://localhost:8080/"
        },
        "id": "bv1EOF7X720X",
        "outputId": "2186e2b6-8242-41dd-b479-9040dbe497e0"
      },
      "execution_count": 24,
      "outputs": [
        {
          "output_type": "stream",
          "name": "stdout",
          "text": [
            "<class 'dict'>\n"
          ]
        }
      ]
    },
    {
      "cell_type": "markdown",
      "source": [
        "Listas (list) o Python lists: son tipos de datos secuenciales mutables que representan un conjunto ordenado de elementos. En una lista se pueden modificar, añadir y eliminar elementos. Las listas se crean escribiendo entre corchetes y pueden contener elementos de diferentes tipos de datos."
      ],
      "metadata": {
        "id": "BixgA_JFN-bR"
      }
    },
    {
      "cell_type": "code",
      "source": [
        "h = [1,2,8,5.8]\n",
        "print(type(h))"
      ],
      "metadata": {
        "colab": {
          "base_uri": "https://localhost:8080/"
        },
        "id": "R853gZVy-JCX",
        "outputId": "3f0ae90a-6a6d-4d79-cb80-a9b79875d4a8"
      },
      "execution_count": 64,
      "outputs": [
        {
          "output_type": "stream",
          "name": "stdout",
          "text": [
            "<class 'list'>\n"
          ]
        }
      ]
    },
    {
      "cell_type": "markdown",
      "source": [
        "Tupla (tuple): son tipos de datos secuenciales inmutables que, al igual que las listas, muestran una colección ordenada de elementos. No obstante, a diferencia de ellas, las tuplas no pueden modificarse a posteriori y se representan escribiendo los elementos entre paréntesis."
      ],
      "metadata": {
        "id": "Fidzuw-mOVdF"
      }
    },
    {
      "cell_type": "code",
      "source": [
        "A = (1,2,3)\n",
        "print(type(A))\n"
      ],
      "metadata": {
        "colab": {
          "base_uri": "https://localhost:8080/"
        },
        "id": "8KovhNlO-lci",
        "outputId": "f88f1252-061b-4091-8cda-86781b02d859"
      },
      "execution_count": 38,
      "outputs": [
        {
          "output_type": "stream",
          "name": "stdout",
          "text": [
            "<class 'tuple'>\n"
          ]
        }
      ]
    },
    {
      "cell_type": "markdown",
      "source": [
        "Un conjunto (set) es una colección desordenada de valores únicos que no permite duplicados. Puedes utilizarlos para almacenar varios elementos de forma que cada elemento es único."
      ],
      "metadata": {
        "id": "xny6BryiOde7"
      }
    },
    {
      "cell_type": "code",
      "source": [
        "H = {8, 9, 10}\n",
        "print(type(H))"
      ],
      "metadata": {
        "colab": {
          "base_uri": "https://localhost:8080/"
        },
        "id": "xzaRO-SUAAQh",
        "outputId": "66b54fe3-e66b-4040-f91c-71c7adda30b9"
      },
      "execution_count": 40,
      "outputs": [
        {
          "output_type": "stream",
          "name": "stdout",
          "text": [
            "<class 'set'>\n"
          ]
        }
      ]
    },
    {
      "cell_type": "markdown",
      "source": [
        "frozenset es una versión inmutable de un conjunto. Una vez creado, no se puede añadir, eliminar o modificar los elementos."
      ],
      "metadata": {
        "id": "SMfEr7L3Op6h"
      }
    },
    {
      "cell_type": "code",
      "source": [
        "a = {1, 99}\n",
        "fs = frozenset(a)\n",
        "print(type(fs))"
      ],
      "metadata": {
        "colab": {
          "base_uri": "https://localhost:8080/"
        },
        "id": "ogv8498mB6oa",
        "outputId": "782b6713-ac5b-41bb-a2a5-891f0b1d421b"
      },
      "execution_count": 50,
      "outputs": [
        {
          "output_type": "stream",
          "name": "stdout",
          "text": [
            "<class 'frozenset'>\n"
          ]
        }
      ]
    }
  ]
}