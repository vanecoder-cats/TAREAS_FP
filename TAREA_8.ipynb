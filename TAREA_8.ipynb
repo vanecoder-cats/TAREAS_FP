{
  "nbformat": 4,
  "nbformat_minor": 0,
  "metadata": {
    "colab": {
      "provenance": [],
      "authorship_tag": "ABX9TyMUwgVONXAZwjRVaNQnN1p+",
      "include_colab_link": true
    },
    "kernelspec": {
      "name": "python3",
      "display_name": "Python 3"
    },
    "language_info": {
      "name": "python"
    }
  },
  "cells": [
    {
      "cell_type": "markdown",
      "metadata": {
        "id": "view-in-github",
        "colab_type": "text"
      },
      "source": [
        "<a href=\"https://colab.research.google.com/github/vanecoder-cats/TAREAS_FP/blob/main/TAREA_8.ipynb\" target=\"_parent\"><img src=\"https://colab.research.google.com/assets/colab-badge.svg\" alt=\"Open In Colab\"/></a>"
      ]
    },
    {
      "cell_type": "markdown",
      "source": [
        "# CONDICIONES"
      ],
      "metadata": {
        "id": "ZvLl7V6O-3j7"
      }
    },
    {
      "cell_type": "markdown",
      "source": [
        "# 1. **If**\n",
        "### #Código a ejecutar si la condición es verdadero"
      ],
      "metadata": {
        "id": "cAIY50DOaGcr"
      }
    },
    {
      "cell_type": "code",
      "source": [
        "edad = 22"
      ],
      "metadata": {
        "id": "ztTE2ErggNrb"
      },
      "execution_count": 24,
      "outputs": []
    },
    {
      "cell_type": "code",
      "source": [
        "if edad >= 18:\n",
        "  print(\"eres mayor de edad\")"
      ],
      "metadata": {
        "colab": {
          "base_uri": "https://localhost:8080/"
        },
        "id": "aYbrjySVbTnu",
        "outputId": "8639394a-96f1-4958-fdc8-b4fdeae05d08"
      },
      "execution_count": 25,
      "outputs": [
        {
          "output_type": "stream",
          "name": "stdout",
          "text": [
            "eres mayor de edad\n"
          ]
        }
      ]
    },
    {
      "cell_type": "markdown",
      "source": [
        "# 2. **Else**\n",
        "**if** condición:\n",
        "\n",
        " #Código a ejecutar si la condición es verdadera\n",
        "\n",
        "**else** condición:\n",
        "\n",
        "  #Código a ejecutar si la condición es falsa"
      ],
      "metadata": {
        "id": "EReowZrDbNfO"
      }
    },
    {
      "cell_type": "code",
      "source": [
        "edad = 12\n",
        "if edad >= 20:\n",
        "   print(\"eres mayor de edad\")\n",
        "else:\n",
        "   print(\"eres menor de edad\")"
      ],
      "metadata": {
        "colab": {
          "base_uri": "https://localhost:8080/"
        },
        "id": "H5aAiVl9hSdT",
        "outputId": "df850bcb-071c-4266-de3a-57ebd4cd3e04"
      },
      "execution_count": 26,
      "outputs": [
        {
          "output_type": "stream",
          "name": "stdout",
          "text": [
            "eres menor de edad\n"
          ]
        }
      ]
    },
    {
      "cell_type": "markdown",
      "source": [
        "##**Elif**\n",
        "\n",
        "**if** condición:\n",
        "\n",
        "  #Código a ejecutar si la condición es verdadera\n",
        "\n",
        "\n",
        "\n",
        "***elif*** condición:\n",
        "\n",
        "  #Código a ejecutar si la condición2 es verdadera\n",
        "\n",
        "\n",
        "\n",
        "**else** condición:\n",
        "  #Código a ejecutar si ninguna de las condiciones son verdaderas\n"
      ],
      "metadata": {
        "id": "dxWbSPbJcRFV"
      }
    },
    {
      "cell_type": "code",
      "source": [
        "edad = 25\n",
        "if edad >= 65:\n",
        "    print(\"eres adulto mayor\")\n",
        "\n",
        "elif edad >= 18:\n",
        "    print(\"eres una persona adulta\")\n",
        "\n",
        "else:\n",
        "    print(\"eres menor de edad\")"
      ],
      "metadata": {
        "colab": {
          "base_uri": "https://localhost:8080/"
        },
        "id": "4irFMzUEhwWG",
        "outputId": "1a5d9510-6696-47cc-c11c-4277db4cd0ea"
      },
      "execution_count": 33,
      "outputs": [
        {
          "output_type": "stream",
          "name": "stdout",
          "text": [
            "eres una persona adulta\n"
          ]
        }
      ]
    },
    {
      "cell_type": "markdown",
      "source": [
        "# **CICLOS**"
      ],
      "metadata": {
        "id": "maeoujvt-wuc"
      }
    },
    {
      "cell_type": "markdown",
      "source": [
        "## **for**\n",
        "\n",
        "  #Código a ejecutar para cada artículo"
      ],
      "metadata": {
        "id": "YtWaiAdD1Nrk"
      }
    },
    {
      "cell_type": "code",
      "source": [
        "for numero in range(9, 19):\n",
        "    print(\"numero:\", numero)"
      ],
      "metadata": {
        "colab": {
          "base_uri": "https://localhost:8080/"
        },
        "id": "VKOy5jOF3zEJ",
        "outputId": "6a892e0b-d131-48bf-821f-52e2494af8cb"
      },
      "execution_count": 39,
      "outputs": [
        {
          "output_type": "stream",
          "name": "stdout",
          "text": [
            "numero: 9\n",
            "numero: 10\n",
            "numero: 11\n",
            "numero: 12\n",
            "numero: 13\n",
            "numero: 14\n",
            "numero: 15\n",
            "numero: 16\n",
            "numero: 17\n",
            "numero: 18\n"
          ]
        }
      ]
    },
    {
      "cell_type": "markdown",
      "source": [
        "## **while**\n",
        "\n",
        "  #Código a ejecutar mientras la condición sea verdadera\n",
        "\n"
      ],
      "metadata": {
        "id": "NYlVq6QE0Abe"
      }
    },
    {
      "cell_type": "code",
      "source": [
        "x = 16\n",
        "while x > 0:\n",
        "    x -= 2\n",
        "    print(x)\n",
        "else:\n",
        "    print(\"fin del bucle\")"
      ],
      "metadata": {
        "colab": {
          "base_uri": "https://localhost:8080/"
        },
        "id": "IQdRjxJg88QW",
        "outputId": "50234f10-471a-4229-e124-2cd30f8e230b"
      },
      "execution_count": 61,
      "outputs": [
        {
          "output_type": "stream",
          "name": "stdout",
          "text": [
            "14\n",
            "12\n",
            "10\n",
            "8\n",
            "6\n",
            "4\n",
            "2\n",
            "0\n",
            "fin del bucle\n"
          ]
        }
      ]
    }
  ]
}